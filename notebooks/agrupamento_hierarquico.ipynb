{
  "nbformat": 4,
  "nbformat_minor": 0,
  "metadata": {
    "colab": {
      "name": "agrupamento_hierarquico.ipynb",
      "provenance": [],
      "authorship_tag": "ABX9TyNkC++Ns94ydZIX+kXHsqln",
      "include_colab_link": true
    },
    "kernelspec": {
      "name": "python3",
      "display_name": "Python 3"
    }
  },
  "cells": [
    {
      "cell_type": "markdown",
      "metadata": {
        "id": "view-in-github",
        "colab_type": "text"
      },
      "source": [
        "<a href=\"https://colab.research.google.com/github/andssuu/PBEA7347/blob/main/notebooks/agrupamento_hierarquico.ipynb\" target=\"_parent\"><img src=\"https://colab.research.google.com/assets/colab-badge.svg\" alt=\"Open In Colab\"/></a>"
      ]
    },
    {
      "cell_type": "markdown",
      "metadata": {
        "id": "p_RHpD2Oqix3"
      },
      "source": [
        "Importando as bibliotecas necessárias para criar o dendrograma e realizar a clusterização"
      ]
    },
    {
      "cell_type": "code",
      "metadata": {
        "id": "S5zLhglvnL6v"
      },
      "source": [
        "import matplotlib.pyplot as plt\n",
        "from scipy.cluster.hierarchy import dendrogram, linkage\n",
        "from sklearn.cluster import AgglomerativeClustering\n",
        "from sklearn.preprocessing import StandardScaler\n",
        "import numpy as np"
      ],
      "execution_count": null,
      "outputs": []
    },
    {
      "cell_type": "markdown",
      "metadata": {
        "id": "goY5zz2tqrES"
      },
      "source": [
        "Criação da base de dados"
      ]
    },
    {
      "cell_type": "code",
      "metadata": {
        "id": "dGgjZ-QwnSNV"
      },
      "source": [
        "x=[20,  27,  21,  37,  46, 53, 55,  47,  52,  32,  39,  41,  39,  48,  48]  \n",
        "y=[1000,1200,2900,1850,900,950,2000,2100,3000,5900,4100,5100,7000,5000,6500]\n",
        "base = np.array([[20,1000],[27,1200],[21,2900],[37,1850],[46,900],\n",
        "                 [53,950],[55,2000],[47,2100],[52,3000],[32,5900],\n",
        "                 [39,4100],[41,5100],[39,7000],[48,5000],[48,6500]])"
      ],
      "execution_count": null,
      "outputs": []
    },
    {
      "cell_type": "markdown",
      "metadata": {
        "id": "6FnRwVP_qzVt"
      },
      "source": [
        "Gerando e plotando o dendrograma"
      ]
    },
    {
      "cell_type": "code",
      "metadata": {
        "colab": {
          "base_uri": "https://localhost:8080/",
          "height": 298
        },
        "id": "C_X94COSqxaJ",
        "outputId": "6237ed79-e089-46eb-a3e8-f946f38e4f2e"
      },
      "source": [
        "scaler = StandardScaler()\n",
        "base = scaler.fit_transform(base)\n",
        "dendrograma = dendrogram(linkage(base, method = 'ward'))\n",
        "plt.title('Dendrograma')\n",
        "plt.xlabel('Pessoas')\n",
        "plt.ylabel('Distância Euclidiana')\n",
        "hc = AgglomerativeClustering(n_clusters = 3, affinity = 'euclidean', linkage = 'ward')\n",
        "previsoes = hc.fit_predict(base)"
      ],
      "execution_count": null,
      "outputs": [
        {
          "output_type": "display_data",
          "data": {
            "image/png": "[encoded data removed]",
            "text/plain": [
              "<Figure size 432x288 with 1 Axes>"
            ]
          },
          "metadata": {
            "tags": [],
            "needs_background": "light"
          }
        }
      ]
    },
    {
      "cell_type": "markdown",
      "metadata": {
        "id": "DGe-ZY9PrDwy"
      },
      "source": [
        "Exibindo os clusters dentro do espaço de características"
      ]
    },
    {
      "cell_type": "code",
      "metadata": {
        "colab": {
          "base_uri": "https://localhost:8080/",
          "height": 296
        },
        "id": "BZexZISbnxiu",
        "outputId": "bdcf10a1-2d54-4b93-96b4-3cad8d69e276"
      },
      "source": [
        "plt.scatter(base[previsoes == 0, 0], base[previsoes == 0, 1], s = 50, c = 'red', label = 'Cluster 1')\n",
        "plt.scatter(base[previsoes == 1, 0], base[previsoes == 1, 1], s = 50, c = 'blue', label = 'Cluster 2')\n",
        "plt.scatter(base[previsoes == 2, 0], base[previsoes == 2, 1], s = 50, c = 'green', label = 'Cluster 3')\n",
        "plt.xlabel('Idade')\n",
        "plt.ylabel('Salário')\n",
        "plt.legend()"
      ],
      "execution_count": null,
      "outputs": [
        {
          "output_type": "execute_result",
          "data": {
            "text/plain": [
              "<matplotlib.legend.Legend at 0x7f3c2d428b38>"
            ]
          },
          "metadata": {
            "tags": []
          },
          "execution_count": 11
        },
        {
          "output_type": "display_data",
          "data": {
            "image/png": "[encoded data removed]",
            "text/plain": [
              "<Figure size 432x288 with 1 Axes>"
            ]
          },
          "metadata": {
            "tags": [],
            "needs_background": "light"
          }
        }
      ]
    },
    {
      "cell_type": "markdown",
      "metadata": {
        "id": "luQQtdDGqLXZ"
      },
      "source": [
        "# Referências\n",
        "\n",
        "*   https://www.computersciencemaster.com.br/2019/02/aula-03-agrupamento-hierarquico.html\n",
        "\n",
        "\n",
        "*   https://scikit-learn.org/stable/modules/generated/sklearn.cluster.AgglomerativeClustering.html\n",
        "\n"
      ]
    }
  ]
}